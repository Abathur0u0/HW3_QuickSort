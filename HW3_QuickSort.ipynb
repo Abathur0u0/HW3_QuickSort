{
 "cells": [
  {
   "cell_type": "code",
   "execution_count": 1,
   "id": "bba0af2c-4215-4934-8fd2-73ece7ede9df",
   "metadata": {},
   "outputs": [
    {
     "name": "stdout",
     "output_type": "stream",
     "text": [
      "[3, 8, 13, 25, 33, 41, 54, 67, 84, 119]\n"
     ]
    }
   ],
   "source": [
    "def quick_sort(arr):\n",
    "    # 如果序列長度小於等於 1，則直接返回該序列，比如遞迴的最後一步\n",
    "    if len(arr) <= 1:\n",
    "        return arr\n",
    "    else:\n",
    "        # 選擇第一個元素為 pivot\n",
    "        pivot = arr[0]\n",
    "        left = []\n",
    "        right = []\n",
    "        # 將小於 pivot 的元素放入左邊的子序列，其他的放入右邊的子序列\n",
    "        for i in arr[1:]:\n",
    "            if i < pivot:\n",
    "                left.append(i)\n",
    "            else:\n",
    "                right.append(i)\n",
    "        # 遞迴：對左右子序列進行快速排序，將結果合併起來\n",
    "        return quick_sort(left) + [pivot] + quick_sort(right)\n",
    "\n",
    "demo = [33, 67, 8, 13, 54, 119, 3, 84, 25, 41]\n",
    "sorted_demo = quick_sort(demo)\n",
    "print(sorted_demo)\n"
   ]
  },
  {
   "cell_type": "code",
   "execution_count": null,
   "id": "7dc841ed-5d1a-4ed3-8c89-99cbe2572e76",
   "metadata": {},
   "outputs": [],
   "source": []
  }
 ],
 "metadata": {
  "kernelspec": {
   "display_name": "Python 3 (ipykernel)",
   "language": "python",
   "name": "python3"
  },
  "language_info": {
   "codemirror_mode": {
    "name": "ipython",
    "version": 3
   },
   "file_extension": ".py",
   "mimetype": "text/x-python",
   "name": "python",
   "nbconvert_exporter": "python",
   "pygments_lexer": "ipython3",
   "version": "3.8.3"
  }
 },
 "nbformat": 4,
 "nbformat_minor": 5
}
